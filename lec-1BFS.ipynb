{
 "cells": [
  {
   "cell_type": "markdown",
   "id": "4394a426",
   "metadata": {},
   "source": [
    "Breadth First Search"
   ]
  },
  {
   "cell_type": "code",
   "execution_count": 2,
   "id": "1669ad7a",
   "metadata": {},
   "outputs": [
    {
     "name": "stdout",
     "output_type": "stream",
     "text": [
      "{'A': ['B', 'C'], 'B': ['D', 'E'], 'C': ['F'], 'D': [], 'E': ['F'], 'F': []}\n",
      "{'A': inf, 'B': inf, 'C': inf, 'D': inf, 'E': inf, 'F': inf}\n",
      "{'A': 'WHITE', 'B': 'WHITE', 'C': 'WHITE', 'D': 'WHITE', 'E': 'WHITE', 'F': 'WHITE'}\n"
     ]
    }
   ],
   "source": [
    "graph = {'A': ['B', 'C'],'B': ['D', 'E'],'C': ['F'],'D': [],'E': ['F'],'F': []}\n",
    "distance = {key : float('inf') for key in graph.keys()}\n",
    "color = {key : \"WHITE\" for key in graph.keys()}\n",
    "print(f\"{graph}\\n{distance}\\n{color}\")"
   ]
  },
  {
   "cell_type": "code",
   "execution_count": 4,
   "id": "adb71bdb",
   "metadata": {},
   "outputs": [
    {
     "data": {
      "text/plain": [
       "{'A': 'No path', 'B': 0, 'C': 'No path', 'D': 1, 'E': 1, 'F': 2}"
      ]
     },
     "execution_count": 4,
     "metadata": {},
     "output_type": "execute_result"
    }
   ],
   "source": [
    "from collections import deque\n",
    "def breadthFirstSearch(graph,start):\n",
    "    distance = {key : \"No path\" for key in graph.keys()}\n",
    "    color = {key : \"WHITE\" for key in graph.keys()}#to track visited or not\n",
    "    parent = {key:None for key in graph.keys()}#to track parent of each node\n",
    "    # initail the queue / frontier\n",
    "    que = deque(start)\n",
    "    # update the props for the initial source node\n",
    "    color[start] = \"BLACK\"\n",
    "    distance[start] = 0\n",
    "    parent[start] = float('inf')\n",
    "    while(que):\n",
    "        node = que.popleft()\n",
    "        for ver in graph[node]:\n",
    "            # white means unvisited so we have to add to que and update prop    \n",
    "            if(color[ver] == \"WHITE\"):\n",
    "                que.append(ver)#adding to get its neighbours details\n",
    "                distance[ver] = distance[node] + 1#add +1 to parents distance from source\n",
    "                color[ver] = \"GRAY\"#marking as partially visited\n",
    "                parent[ver] = node#assigning parent\n",
    "        color[node] = \"BLACK\"\n",
    "    return distance\n",
    "breadthFirstSearch(graph,'B')"
   ]
  },
  {
   "cell_type": "code",
   "execution_count": null,
   "id": "c180bfc5",
   "metadata": {},
   "outputs": [],
   "source": []
  }
 ],
 "metadata": {
  "kernelspec": {
   "display_name": "ai",
   "language": "python",
   "name": "python3"
  },
  "language_info": {
   "codemirror_mode": {
    "name": "ipython",
    "version": 3
   },
   "file_extension": ".py",
   "mimetype": "text/x-python",
   "name": "python",
   "nbconvert_exporter": "python",
   "pygments_lexer": "ipython3",
   "version": "3.13.3"
  }
 },
 "nbformat": 4,
 "nbformat_minor": 5
}
