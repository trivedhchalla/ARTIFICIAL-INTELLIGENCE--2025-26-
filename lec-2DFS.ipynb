{
 "cells": [
  {
   "cell_type": "markdown",
   "id": "7c2d8834",
   "metadata": {},
   "source": [
    "Depth-First-Search:Search the graph by changing from root level to leaf level"
   ]
  },
  {
   "cell_type": "code",
   "execution_count": 2,
   "id": "bb08e35b",
   "metadata": {},
   "outputs": [],
   "source": [
    "graph = {'u':['v','x'],'v':['y'],'y':['x'],'x':['v'],'w':['y','z'],'z':['z']}"
   ]
  },
  {
   "cell_type": "code",
   "execution_count": null,
   "id": "0749e78f",
   "metadata": {},
   "outputs": [
    {
     "data": {
      "text/plain": [
       "{'u', 'v', 'w', 'x', 'y', 'z'}"
      ]
     },
     "execution_count": 7,
     "metadata": {},
     "output_type": "execute_result"
    }
   ],
   "source": [
    "def dfs(graph):\n",
    "    parent = {vertex : None for vertex in graph}\n",
    "    color = {vertex : \"WHITE\" for vertex in graph}\n",
    "    discoverTime = {vertex : 0 for vertex in graph}\n",
    "    finishTime = {vertex : 0 for vertex in graph}\n",
    "    time = [0]#allow dfsVisit() (the inner nested function) to modify time from the outer dfs() scope. with this dfsVisit can change the time as well if primitive means not possible\n",
    "    visited = set() # to track the path\n",
    "    def dfsVisit(node):\n",
    "        visited.add(node)\n",
    "        color[node] = \"GRAY\"\n",
    "        time[0] = time[0] + 1\n",
    "        discoverTime[node] = time[0]\n",
    "        for child in graph[node]:\n",
    "            if(color[child] == \"WHITE\"):\n",
    "                parent[child] = node\n",
    "                dfsVisit(child)\n",
    "        color[node] = \"BLACK\"\n",
    "        time[0] += 1\n",
    "        finishTime[node] = time[0] \n",
    "    for node in graph:\n",
    "        if(color[node] == \"WHITE\"):\n",
    "            dfsVisit(node)\n",
    "    # return discoverTime,finishTime,parent\n",
    "    return visited\n",
    "dfs(graph)"
   ]
  }
 ],
 "metadata": {
  "kernelspec": {
   "display_name": "Python 3",
   "language": "python",
   "name": "python3"
  },
  "language_info": {
   "codemirror_mode": {
    "name": "ipython",
    "version": 3
   },
   "file_extension": ".py",
   "mimetype": "text/x-python",
   "name": "python",
   "nbconvert_exporter": "python",
   "pygments_lexer": "ipython3",
   "version": "3.13.5"
  }
 },
 "nbformat": 4,
 "nbformat_minor": 5
}
