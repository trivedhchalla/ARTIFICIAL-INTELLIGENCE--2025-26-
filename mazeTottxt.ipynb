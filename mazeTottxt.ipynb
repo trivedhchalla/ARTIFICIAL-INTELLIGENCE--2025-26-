{
 "cells": [
  {
   "cell_type": "code",
   "execution_count": 11,
   "id": "fff8a8a0",
   "metadata": {},
   "outputs": [
    {
     "name": "stdout",
     "output_type": "stream",
     "text": [
      "A #   # #   #  \n",
      "  # # # ### ## \n",
      "#   #     #    \n",
      " ##  #### #### \n",
      "    #   #   #  \n",
      "### ### ### # #\n",
      "  #       #   #\n",
      " # ###### ###  \n",
      "       #    #  \n",
      "###### #### ## \n",
      "          #    \n",
      " ######## #### \n",
      "       #       \n",
      "###### ####### \n",
      "             B \n"
     ]
    }
   ],
   "source": [
    "maze_data = [\n",
    "    ['A',0,1,0,0,0,1,0,1,0,0,0,1,0,0],\n",
    "    [0,0,1,0,1,0,1,0,1,1,1,0,1,1,0],\n",
    "    [1,0,0,0,1,0,0,0,0,0,1,0,0,0,0],\n",
    "    [0,1,1,0,0,1,1,1,1,0,1,1,1,1,0],\n",
    "    [0,0,0,0,1,0,0,0,1,0,0,0,1,0,0],\n",
    "    [1,1,1,0,1,1,1,0,1,1,1,0,1,0,1],\n",
    "    [0,0,1,0,0,0,0,0,0,0,1,0,0,0,1],\n",
    "    [0,1,0,1,1,1,1,1,1,0,1,1,1,0,0],\n",
    "    [0,0,0,0,0,0,0,1,0,0,0,0,1,0,0],\n",
    "    [1,1,1,1,1,1,0,1,1,1,1,0,1,1,0],\n",
    "    [0,0,0,0,0,0,0,0,0,0,1,0,0,0,0],\n",
    "    [0,1,1,1,1,1,1,1,1,0,1,1,1,1,0],\n",
    "    [0,0,0,0,0,0,0,1,0,0,0,0,0,0,0],\n",
    "    [1,1,1,1,1,1,0,1,1,1,1,1,1,1,0],\n",
    "    [0,0,0,0,0,0,0,0,0,0,0,0,0,'B',0]\n",
    "]\n",
    "def mazeTotxt(maze, fileName=None):\n",
    "    convert = {1: \"#\", 0: \" \", \"A\": \"A\", \"B\": \"B\"}\n",
    "    ascii_maze = []\n",
    "    for row in maze: \n",
    "        ascii_row = \"\".join(convert[cell] for cell in row)\n",
    "        ascii_maze.append(ascii_row)\n",
    "    for row in ascii_maze:\n",
    "        print(row)\n",
    "mazeTotxt(maze_data)\n",
    "    # with open(fileName, \"w\") as f:\n",
    "    #     f.write(\"\\n\".join(ascii_maze)) \n",
    "# mazeTotxt(maze_data,\"maze1.txt\")"
   ]
  }
 ],
 "metadata": {
  "kernelspec": {
   "display_name": "ai",
   "language": "python",
   "name": "python3"
  },
  "language_info": {
   "codemirror_mode": {
    "name": "ipython",
    "version": 3
   },
   "file_extension": ".py",
   "mimetype": "text/x-python",
   "name": "python",
   "nbconvert_exporter": "python",
   "pygments_lexer": "ipython3",
   "version": "3.13.3"
  }
 },
 "nbformat": 4,
 "nbformat_minor": 5
}
