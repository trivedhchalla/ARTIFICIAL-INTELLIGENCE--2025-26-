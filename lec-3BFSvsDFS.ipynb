{
 "cells": [
  {
   "cell_type": "code",
   "execution_count": 1,
   "id": "26ca99f5",
   "metadata": {},
   "outputs": [],
   "source": [
    "graph = {'u':['v','x'],'v':['u','y','x'],'y':['v','x','w'],'x':['u','v','y'],'w':['y','z'],'z':['z']}\n",
    "dgraph = {'u':['v','x'],'v':['y'],'y':['x'],'x':['v'],'w':['y','z'],'z':['z']}\n",
    "start = 'u'\n",
    "end = 'w'"
   ]
  },
  {
   "cell_type": "code",
   "execution_count": 2,
   "id": "bec55409",
   "metadata": {},
   "outputs": [
    {
     "data": {
      "text/plain": [
       "['u', 'v', 'x', 'y', 'w']"
      ]
     },
     "execution_count": 2,
     "metadata": {},
     "output_type": "execute_result"
    }
   ],
   "source": [
    "# bfs\n",
    "from collections import deque\n",
    "def breadthFirstSearch(graph,start,end):\n",
    "    distance = {key : float('inf') for key in graph.keys()}\n",
    "    color = {key : \"WHITE\" for key in graph.keys()}#to track visited or not\n",
    "    parent = {key:None for key in graph.keys()}#to track parent of each node\n",
    "    visited = [start] # to store the path of search\n",
    "    # intialize the queue / frontier\n",
    "    que = deque(start)\n",
    "    # update the props for the initial source node\n",
    "    color[start] = \"BLACK\"\n",
    "    distance[start] = 0\n",
    "    parent[start] = float('inf')\n",
    "    while(que):\n",
    "        node = que.popleft()\n",
    "        for ver in graph[node]:\n",
    "            # white means unvisited so we have to add to que and update prop    \n",
    "            if(color[ver] == \"WHITE\"):\n",
    "                que.append(ver)#adding to get its neighbours details\n",
    "                distance[ver] = distance[node] + 1#add +1 to parents distance from source\n",
    "                color[ver] = \"BLACK\"#marking as visited\n",
    "                parent[ver] = node#assigning parent\n",
    "                visited.append(ver)\n",
    "            if(ver == end):\n",
    "                # print(f\"Found the node  {ver}:\")\n",
    "                return visited\n",
    "        color[node] = \"BLACK\"\n",
    "    return visited,\n",
    "breadthFirstSearch(graph,'u','w')"
   ]
  },
  {
   "cell_type": "code",
   "execution_count": 3,
   "id": "668e3d6b",
   "metadata": {},
   "outputs": [
    {
     "data": {
      "text/plain": [
       "['w', 'z']"
      ]
     },
     "execution_count": 3,
     "metadata": {},
     "output_type": "execute_result"
    }
   ],
   "source": [
    "# dfs for searching \n",
    "def dfs(graph,end):\n",
    "    parent = {vertex : None for vertex in graph}\n",
    "    color = {vertex : \"WHITE\" for vertex in graph}\n",
    "    discoverTime = {vertex : 0 for vertex in graph}\n",
    "    finishTime = {vertex : 0 for vertex in graph}\n",
    "    time = [0]#allow dfsVisit() (the inner nested function) to modify time from the outer dfs() scope. with this dfsVisit can change the time as well if primitive means not possible\n",
    "    def dfsVisit(node):\n",
    "        color[node] = \"GRAY\"\n",
    "        time[0] = time[0] + 1\n",
    "        discoverTime[node] = time[0]\n",
    "        for child in graph[node]:\n",
    "            if(color[child] == \"WHITE\"):\n",
    "                visited.append(child) # since the node is not visited we add it to visited\n",
    "                if(child == end):\n",
    "                    # print(f\"Node {child} is found\")\n",
    "                    return visited    \n",
    "                parent[child] = node\n",
    "                dfsVisit(child)\n",
    "        # after searching a node neighbours completely time and color updation\n",
    "        color[node] = \"BLACK\"\n",
    "        time[0] += 1\n",
    "        finishTime[node] = time[0] \n",
    "    for node in graph:\n",
    "        if(color[node] == \"WHITE\"):\n",
    "            visited = [node] # to track the path and have to intialize since new path\n",
    "            dfsVisit(node)\n",
    "    return visited\n",
    "dfs(graph,end)"
   ]
  },
  {
   "cell_type": "code",
   "execution_count": 17,
   "id": "16d385b9",
   "metadata": {},
   "outputs": [
    {
     "name": "stdout",
     "output_type": "stream",
     "text": [
      "BFS path ['u', 'v', 'x', 'y', 'w'] with length 5\n",
      "DFS path ['w', 'z'] with length 2\n"
     ]
    },
    {
     "data": {
      "text/plain": [
       "'Depth First Search is Effective!!'"
      ]
     },
     "execution_count": 17,
     "metadata": {},
     "output_type": "execute_result"
    }
   ],
   "source": [
    "# function that should return comparision bw the bfs and dfs for same graph\n",
    "with open(\"graph.txt\") as f:\n",
    "    lines = f.read().strip().split(\"\\n\")\n",
    "\n",
    "graph_text = lines[0].split(\"=\", 1)[1].strip()\n",
    "start_text = lines[1].split(\"=\", 1)[1].strip().strip(\"'\")\n",
    "end_text = lines[2].split(\"=\", 1)[1].strip().strip(\"'\")\n",
    "\n",
    "graph = eval(graph_text)\n",
    "start = start_text        \n",
    "end = end_text\n",
    "\n",
    "def compareBfsDfs(graph,start,end):\n",
    "    bfs = breadthFirstSearch(graph,start,end)\n",
    "    depthFirstSearch = dfs(graph,end)\n",
    "    print(f\"BFS path {bfs} with length {len(bfs)}\")\n",
    "    print(f\"DFS path {depthFirstSearch} with length {len(depthFirstSearch)}\")\n",
    "    if(len(bfs) > len(depthFirstSearch)):\n",
    "        return \"Depth First Search is Effective!!\"\n",
    "    elif(len(bfs) < len(depthFirstSearch)):\n",
    "        return \"Breadth First Search is Effective!!\"\n",
    "    else:\n",
    "        return \"Both are effective!!\"\n",
    "compareBfsDfs(graph,start,end)"
   ]
  },
  {
   "cell_type": "code",
   "execution_count": null,
   "id": "fe5632f8",
   "metadata": {},
   "outputs": [],
   "source": []
  }
 ],
 "metadata": {
  "kernelspec": {
   "display_name": "Python 3",
   "language": "python",
   "name": "python3"
  },
  "language_info": {
   "codemirror_mode": {
    "name": "ipython",
    "version": 3
   },
   "file_extension": ".py",
   "mimetype": "text/x-python",
   "name": "python",
   "nbconvert_exporter": "python",
   "pygments_lexer": "ipython3",
   "version": "3.13.5"
  }
 },
 "nbformat": 4,
 "nbformat_minor": 5
}
